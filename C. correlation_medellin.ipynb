{
 "cells": [
  {
   "cell_type": "code",
   "execution_count": 1,
   "metadata": {
    "collapsed": false,
    "jupyter": {
     "outputs_hidden": false
    }
   },
   "outputs": [
    {
     "name": "stdout",
     "output_type": "stream",
     "text": [
      "Libraries imported.\n"
     ]
    }
   ],
   "source": [
    "#Importing libraries\n",
    "\n",
    "import numpy as np # library to handle data in a vectorized manner\n",
    "import os\n",
    "import geopandas\n",
    "import pandas as pd # library for data analsysis\n",
    "import random\n",
    "pd.set_option('display.max_columns', None)\n",
    "pd.set_option('display.max_rows', None)\n",
    "\n",
    "import json # library to handle JSON files\n",
    "import geopandas as gp\n",
    "\n",
    "#!conda install -c conda-forge geopy --yes # uncomment this line if you haven't completed the Foursquare API lab\n",
    "from geopy.geocoders import Nominatim # convert an address into latitude and longitude values\n",
    "\n",
    "import requests # library to handle requests\n",
    "from pandas.io.json import json_normalize # tranform JSON file into a pandas dataframe\n",
    "\n",
    "# Matplotlib and Seabornand associated plotting modules\n",
    "import matplotlib.cm as cm\n",
    "import matplotlib.colors as colors\n",
    "import matplotlib.ticker as mtick\n",
    "import matplotlib.pyplot as plt\n",
    "import seaborn as sns\n",
    "\n",
    "# import k-means from clustering stage\n",
    "from sklearn.cluster import KMeans\n",
    "\n",
    "#!conda install -c conda-forge folium=0.5.0 --yes # uncomment this line if you haven't completed the Foursquare API lab\n",
    "import folium # map rendering library\n",
    "from folium import plugins\n",
    "import shapely\n",
    "from shapely.geometry import shape,mapping, Point, Polygon, MultiPolygon\n",
    "\n",
    "from tqdm import tqdm\n",
    "\n",
    "print('Libraries imported.')"
   ]
  },
  {
   "cell_type": "markdown",
   "metadata": {},
   "source": [
    "# CHAPTER C. CORRELATION BETWEEN TRAFFIC ACCIDENTS AND VENUES IN MEDELLÍN"
   ]
  },
  {
   "cell_type": "code",
   "execution_count": 2,
   "metadata": {},
   "outputs": [
    {
     "name": "stdout",
     "output_type": "stream",
     "text": [
      "(264, 2)\n"
     ]
    },
    {
     "data": {
      "text/html": [
       "<div>\n",
       "<style scoped>\n",
       "    .dataframe tbody tr th:only-of-type {\n",
       "        vertical-align: middle;\n",
       "    }\n",
       "\n",
       "    .dataframe tbody tr th {\n",
       "        vertical-align: top;\n",
       "    }\n",
       "\n",
       "    .dataframe thead th {\n",
       "        text-align: right;\n",
       "    }\n",
       "</style>\n",
       "<table border=\"1\" class=\"dataframe\">\n",
       "  <thead>\n",
       "    <tr style=\"text-align: right;\">\n",
       "      <th></th>\n",
       "      <th>neighborhood</th>\n",
       "      <th>Cluster Labels</th>\n",
       "    </tr>\n",
       "  </thead>\n",
       "  <tbody>\n",
       "    <tr>\n",
       "      <td>0</td>\n",
       "      <td>La Aguacatala</td>\n",
       "      <td>0</td>\n",
       "    </tr>\n",
       "    <tr>\n",
       "      <td>1</td>\n",
       "      <td>El Pinal</td>\n",
       "      <td>4</td>\n",
       "    </tr>\n",
       "    <tr>\n",
       "      <td>2</td>\n",
       "      <td>Las Granjas</td>\n",
       "      <td>0</td>\n",
       "    </tr>\n",
       "    <tr>\n",
       "      <td>3</td>\n",
       "      <td>Barrios de Jesús</td>\n",
       "      <td>0</td>\n",
       "    </tr>\n",
       "    <tr>\n",
       "      <td>4</td>\n",
       "      <td>La Alpujarra</td>\n",
       "      <td>0</td>\n",
       "    </tr>\n",
       "  </tbody>\n",
       "</table>\n",
       "</div>"
      ],
      "text/plain": [
       "       neighborhood  Cluster Labels\n",
       "0     La Aguacatala               0\n",
       "1          El Pinal               4\n",
       "2       Las Granjas               0\n",
       "3  Barrios de Jesús               0\n",
       "4      La Alpujarra               0"
      ]
     },
     "execution_count": 2,
     "metadata": {},
     "output_type": "execute_result"
    }
   ],
   "source": [
    "# Reading venues by neighborhood\n",
    "venues_per_neigh = pd.read_csv('data/venues_per_neigh.csv')[['NOMBRE', 'Cluster Labels']]\n",
    "venues_per_neigh.rename(columns={\"NOMBRE\": \"neighborhood\"}, inplace=True)\n",
    "print(venues_per_neigh.shape)\n",
    "venues_per_neigh.head()"
   ]
  },
  {
   "cell_type": "code",
   "execution_count": 3,
   "metadata": {},
   "outputs": [
    {
     "name": "stdout",
     "output_type": "stream",
     "text": [
      "(261, 6)\n"
     ]
    },
    {
     "data": {
      "text/html": [
       "<div>\n",
       "<style scoped>\n",
       "    .dataframe tbody tr th:only-of-type {\n",
       "        vertical-align: middle;\n",
       "    }\n",
       "\n",
       "    .dataframe tbody tr th {\n",
       "        vertical-align: top;\n",
       "    }\n",
       "\n",
       "    .dataframe thead th {\n",
       "        text-align: right;\n",
       "    }\n",
       "</style>\n",
       "<table border=\"1\" class=\"dataframe\">\n",
       "  <thead>\n",
       "    <tr style=\"text-align: right;\">\n",
       "      <th></th>\n",
       "      <th>neighborhood</th>\n",
       "      <th>crash</th>\n",
       "      <th>fallen_occupant</th>\n",
       "      <th>other</th>\n",
       "      <th>overturning</th>\n",
       "      <th>run_over</th>\n",
       "    </tr>\n",
       "  </thead>\n",
       "  <tbody>\n",
       "    <tr>\n",
       "      <td>0</td>\n",
       "      <td>Aguas Frías</td>\n",
       "      <td>9</td>\n",
       "      <td>3</td>\n",
       "      <td>6</td>\n",
       "      <td>1</td>\n",
       "      <td>2</td>\n",
       "    </tr>\n",
       "    <tr>\n",
       "      <td>1</td>\n",
       "      <td>Aldea Pablo VI</td>\n",
       "      <td>25</td>\n",
       "      <td>12</td>\n",
       "      <td>6</td>\n",
       "      <td>2</td>\n",
       "      <td>19</td>\n",
       "    </tr>\n",
       "    <tr>\n",
       "      <td>2</td>\n",
       "      <td>Alejandro Echavarría</td>\n",
       "      <td>130</td>\n",
       "      <td>23</td>\n",
       "      <td>38</td>\n",
       "      <td>11</td>\n",
       "      <td>38</td>\n",
       "    </tr>\n",
       "    <tr>\n",
       "      <td>3</td>\n",
       "      <td>Alejandría</td>\n",
       "      <td>408</td>\n",
       "      <td>18</td>\n",
       "      <td>23</td>\n",
       "      <td>9</td>\n",
       "      <td>14</td>\n",
       "    </tr>\n",
       "    <tr>\n",
       "      <td>4</td>\n",
       "      <td>Alfonso López</td>\n",
       "      <td>714</td>\n",
       "      <td>198</td>\n",
       "      <td>201</td>\n",
       "      <td>55</td>\n",
       "      <td>148</td>\n",
       "    </tr>\n",
       "  </tbody>\n",
       "</table>\n",
       "</div>"
      ],
      "text/plain": [
       "           neighborhood  crash  fallen_occupant  other  overturning  run_over\n",
       "0           Aguas Frías      9                3      6            1         2\n",
       "1        Aldea Pablo VI     25               12      6            2        19\n",
       "2  Alejandro Echavarría    130               23     38           11        38\n",
       "3            Alejandría    408               18     23            9        14\n",
       "4         Alfonso López    714              198    201           55       148"
      ]
     },
     "execution_count": 3,
     "metadata": {},
     "output_type": "execute_result"
    }
   ],
   "source": [
    "# Reading accidents by neighborhood\n",
    "accidents_per_neigh = pd.read_csv('data/accidents_per_neigh.csv')\n",
    "accidents_per_neigh.drop(['Unnamed: 0'], axis=1, inplace=True)\n",
    "print(accidents_per_neigh.shape)\n",
    "accidents_per_neigh.head()"
   ]
  },
  {
   "cell_type": "code",
   "execution_count": 4,
   "metadata": {},
   "outputs": [
    {
     "name": "stdout",
     "output_type": "stream",
     "text": [
      "(220, 7)\n"
     ]
    },
    {
     "data": {
      "text/html": [
       "<div>\n",
       "<style scoped>\n",
       "    .dataframe tbody tr th:only-of-type {\n",
       "        vertical-align: middle;\n",
       "    }\n",
       "\n",
       "    .dataframe tbody tr th {\n",
       "        vertical-align: top;\n",
       "    }\n",
       "\n",
       "    .dataframe thead th {\n",
       "        text-align: right;\n",
       "    }\n",
       "</style>\n",
       "<table border=\"1\" class=\"dataframe\">\n",
       "  <thead>\n",
       "    <tr style=\"text-align: right;\">\n",
       "      <th></th>\n",
       "      <th>neighborhood</th>\n",
       "      <th>crash</th>\n",
       "      <th>fallen_occupant</th>\n",
       "      <th>other</th>\n",
       "      <th>overturning</th>\n",
       "      <th>run_over</th>\n",
       "      <th>Cluster Labels</th>\n",
       "    </tr>\n",
       "  </thead>\n",
       "  <tbody>\n",
       "    <tr>\n",
       "      <td>1</td>\n",
       "      <td>Aldea Pablo VI</td>\n",
       "      <td>25</td>\n",
       "      <td>12</td>\n",
       "      <td>6</td>\n",
       "      <td>2</td>\n",
       "      <td>19</td>\n",
       "      <td>0</td>\n",
       "    </tr>\n",
       "    <tr>\n",
       "      <td>2</td>\n",
       "      <td>Alejandro Echavarría</td>\n",
       "      <td>130</td>\n",
       "      <td>23</td>\n",
       "      <td>38</td>\n",
       "      <td>11</td>\n",
       "      <td>38</td>\n",
       "      <td>0</td>\n",
       "    </tr>\n",
       "    <tr>\n",
       "      <td>3</td>\n",
       "      <td>Alejandría</td>\n",
       "      <td>408</td>\n",
       "      <td>18</td>\n",
       "      <td>23</td>\n",
       "      <td>9</td>\n",
       "      <td>14</td>\n",
       "      <td>0</td>\n",
       "    </tr>\n",
       "    <tr>\n",
       "      <td>4</td>\n",
       "      <td>Alfonso López</td>\n",
       "      <td>714</td>\n",
       "      <td>198</td>\n",
       "      <td>201</td>\n",
       "      <td>55</td>\n",
       "      <td>148</td>\n",
       "      <td>0</td>\n",
       "    </tr>\n",
       "    <tr>\n",
       "      <td>5</td>\n",
       "      <td>Altamira</td>\n",
       "      <td>207</td>\n",
       "      <td>34</td>\n",
       "      <td>40</td>\n",
       "      <td>12</td>\n",
       "      <td>23</td>\n",
       "      <td>0</td>\n",
       "    </tr>\n",
       "  </tbody>\n",
       "</table>\n",
       "</div>"
      ],
      "text/plain": [
       "           neighborhood  crash  fallen_occupant  other  overturning  run_over  \\\n",
       "1        Aldea Pablo VI     25               12      6            2        19   \n",
       "2  Alejandro Echavarría    130               23     38           11        38   \n",
       "3            Alejandría    408               18     23            9        14   \n",
       "4         Alfonso López    714              198    201           55       148   \n",
       "5              Altamira    207               34     40           12        23   \n",
       "\n",
       "   Cluster Labels  \n",
       "1               0  \n",
       "2               0  \n",
       "3               0  \n",
       "4               0  \n",
       "5               0  "
      ]
     },
     "execution_count": 4,
     "metadata": {},
     "output_type": "execute_result"
    }
   ],
   "source": [
    "# Merging both datasets\n",
    "\n",
    "accidents_venues = accidents_per_neigh.join(venues_per_neigh.set_index('neighborhood'), on='neighborhood')\n",
    "accidents_venues.dropna(inplace=True)\n",
    "accidents_venues['Cluster Labels'] = accidents_venues['Cluster Labels'].astype(int)\n",
    "print(accidents_venues.shape)\n",
    "accidents_venues.head()"
   ]
  },
  {
   "cell_type": "code",
   "execution_count": 5,
   "metadata": {},
   "outputs": [
    {
     "data": {
      "text/plain": [
       "neighborhood       0\n",
       "crash              0\n",
       "fallen_occupant    0\n",
       "other              0\n",
       "overturning        0\n",
       "run_over           0\n",
       "Cluster Labels     0\n",
       "dtype: int64"
      ]
     },
     "execution_count": 5,
     "metadata": {},
     "output_type": "execute_result"
    }
   ],
   "source": [
    "accidents_venues.isna().sum()"
   ]
  },
  {
   "cell_type": "markdown",
   "metadata": {},
   "source": [
    "#### Next, let's group rows by Cluster Labels and by taking the mean of the frequency of occurrence of each class of accident"
   ]
  },
  {
   "cell_type": "code",
   "execution_count": 6,
   "metadata": {
    "collapsed": false,
    "jupyter": {
     "outputs_hidden": false
    },
    "scrolled": true
   },
   "outputs": [
    {
     "data": {
      "text/html": [
       "<div>\n",
       "<style scoped>\n",
       "    .dataframe tbody tr th:only-of-type {\n",
       "        vertical-align: middle;\n",
       "    }\n",
       "\n",
       "    .dataframe tbody tr th {\n",
       "        vertical-align: top;\n",
       "    }\n",
       "\n",
       "    .dataframe thead th {\n",
       "        text-align: right;\n",
       "    }\n",
       "</style>\n",
       "<table border=\"1\" class=\"dataframe\">\n",
       "  <thead>\n",
       "    <tr style=\"text-align: right;\">\n",
       "      <th></th>\n",
       "      <th>crash</th>\n",
       "      <th>fallen_occupant</th>\n",
       "      <th>other</th>\n",
       "      <th>overturning</th>\n",
       "      <th>run_over</th>\n",
       "    </tr>\n",
       "    <tr>\n",
       "      <th>Cluster Labels</th>\n",
       "      <th></th>\n",
       "      <th></th>\n",
       "      <th></th>\n",
       "      <th></th>\n",
       "      <th></th>\n",
       "    </tr>\n",
       "  </thead>\n",
       "  <tbody>\n",
       "    <tr>\n",
       "      <td>0</td>\n",
       "      <td>1156.239766</td>\n",
       "      <td>136.953216</td>\n",
       "      <td>165.000000</td>\n",
       "      <td>49.526316</td>\n",
       "      <td>158.076023</td>\n",
       "    </tr>\n",
       "    <tr>\n",
       "      <td>1</td>\n",
       "      <td>189.636364</td>\n",
       "      <td>46.181818</td>\n",
       "      <td>50.454545</td>\n",
       "      <td>14.636364</td>\n",
       "      <td>74.181818</td>\n",
       "    </tr>\n",
       "    <tr>\n",
       "      <td>2</td>\n",
       "      <td>267.166667</td>\n",
       "      <td>61.666667</td>\n",
       "      <td>56.166667</td>\n",
       "      <td>17.833333</td>\n",
       "      <td>46.166667</td>\n",
       "    </tr>\n",
       "    <tr>\n",
       "      <td>3</td>\n",
       "      <td>238.375000</td>\n",
       "      <td>42.750000</td>\n",
       "      <td>51.250000</td>\n",
       "      <td>15.083333</td>\n",
       "      <td>47.458333</td>\n",
       "    </tr>\n",
       "    <tr>\n",
       "      <td>4</td>\n",
       "      <td>189.625000</td>\n",
       "      <td>44.750000</td>\n",
       "      <td>53.625000</td>\n",
       "      <td>16.000000</td>\n",
       "      <td>68.375000</td>\n",
       "    </tr>\n",
       "  </tbody>\n",
       "</table>\n",
       "</div>"
      ],
      "text/plain": [
       "                      crash  fallen_occupant       other  overturning  \\\n",
       "Cluster Labels                                                          \n",
       "0               1156.239766       136.953216  165.000000    49.526316   \n",
       "1                189.636364        46.181818   50.454545    14.636364   \n",
       "2                267.166667        61.666667   56.166667    17.833333   \n",
       "3                238.375000        42.750000   51.250000    15.083333   \n",
       "4                189.625000        44.750000   53.625000    16.000000   \n",
       "\n",
       "                  run_over  \n",
       "Cluster Labels              \n",
       "0               158.076023  \n",
       "1                74.181818  \n",
       "2                46.166667  \n",
       "3                47.458333  \n",
       "4                68.375000  "
      ]
     },
     "execution_count": 6,
     "metadata": {},
     "output_type": "execute_result"
    }
   ],
   "source": [
    "neigh_grouped = accidents_venues.groupby('Cluster Labels').mean()\n",
    "neigh_grouped"
   ]
  },
  {
   "cell_type": "code",
   "execution_count": 7,
   "metadata": {},
   "outputs": [
    {
     "data": {
      "text/html": [
       "<div>\n",
       "<style scoped>\n",
       "    .dataframe tbody tr th:only-of-type {\n",
       "        vertical-align: middle;\n",
       "    }\n",
       "\n",
       "    .dataframe tbody tr th {\n",
       "        vertical-align: top;\n",
       "    }\n",
       "\n",
       "    .dataframe thead th {\n",
       "        text-align: right;\n",
       "    }\n",
       "</style>\n",
       "<table border=\"1\" class=\"dataframe\">\n",
       "  <thead>\n",
       "    <tr style=\"text-align: right;\">\n",
       "      <th></th>\n",
       "      <th>Cluster Labels</th>\n",
       "      <th>crash</th>\n",
       "      <th>fallen_occupant</th>\n",
       "      <th>other</th>\n",
       "      <th>overturning</th>\n",
       "      <th>run_over</th>\n",
       "    </tr>\n",
       "  </thead>\n",
       "  <tbody>\n",
       "    <tr>\n",
       "      <td>0</td>\n",
       "      <td>0</td>\n",
       "      <td>0.694107</td>\n",
       "      <td>0.082215</td>\n",
       "      <td>0.099052</td>\n",
       "      <td>0.029731</td>\n",
       "      <td>0.094895</td>\n",
       "    </tr>\n",
       "    <tr>\n",
       "      <td>1</td>\n",
       "      <td>1</td>\n",
       "      <td>0.505574</td>\n",
       "      <td>0.123122</td>\n",
       "      <td>0.134513</td>\n",
       "      <td>0.039021</td>\n",
       "      <td>0.197770</td>\n",
       "    </tr>\n",
       "    <tr>\n",
       "      <td>2</td>\n",
       "      <td>2</td>\n",
       "      <td>0.595026</td>\n",
       "      <td>0.137342</td>\n",
       "      <td>0.125093</td>\n",
       "      <td>0.039718</td>\n",
       "      <td>0.102821</td>\n",
       "    </tr>\n",
       "    <tr>\n",
       "      <td>3</td>\n",
       "      <td>3</td>\n",
       "      <td>0.603608</td>\n",
       "      <td>0.108251</td>\n",
       "      <td>0.129774</td>\n",
       "      <td>0.038194</td>\n",
       "      <td>0.120173</td>\n",
       "    </tr>\n",
       "    <tr>\n",
       "      <td>4</td>\n",
       "      <td>4</td>\n",
       "      <td>0.509231</td>\n",
       "      <td>0.120175</td>\n",
       "      <td>0.144008</td>\n",
       "      <td>0.042967</td>\n",
       "      <td>0.183619</td>\n",
       "    </tr>\n",
       "  </tbody>\n",
       "</table>\n",
       "</div>"
      ],
      "text/plain": [
       "   Cluster Labels     crash  fallen_occupant     other  overturning  run_over\n",
       "0               0  0.694107         0.082215  0.099052     0.029731  0.094895\n",
       "1               1  0.505574         0.123122  0.134513     0.039021  0.197770\n",
       "2               2  0.595026         0.137342  0.125093     0.039718  0.102821\n",
       "3               3  0.603608         0.108251  0.129774     0.038194  0.120173\n",
       "4               4  0.509231         0.120175  0.144008     0.042967  0.183619"
      ]
     },
     "execution_count": 7,
     "metadata": {},
     "output_type": "execute_result"
    }
   ],
   "source": [
    "# Transforming to percentage for each row\n",
    "neigh_grouped = neigh_grouped.transpose()\n",
    "neigh_grouped = neigh_grouped/neigh_grouped.sum()\n",
    "neigh_grouped = neigh_grouped.transpose()\n",
    "neigh_grouped = neigh_grouped.reset_index()\n",
    "neigh_grouped"
   ]
  },
  {
   "cell_type": "markdown",
   "metadata": {},
   "source": [
    "#### Now, lets visualize these values and make some conclusions"
   ]
  },
  {
   "cell_type": "code",
   "execution_count": 20,
   "metadata": {},
   "outputs": [
    {
     "data": {
      "text/plain": [
       "<Figure size 7200x7200 with 0 Axes>"
      ]
     },
     "metadata": {},
     "output_type": "display_data"
    },
    {
     "data": {
      "image/png": "[encoded data removed]",
      "text/plain": [
       "<Figure size 432x288 with 1 Axes>"
      ]
     },
     "metadata": {
      "needs_background": "light"
     },
     "output_type": "display_data"
    }
   ],
   "source": [
    "# Analyzing statistical correlations between socioeconomic values and the respective choice\n",
    "plt.figure(figsize=(100,100))\n",
    "neigh_grouped.plot(x='Cluster Labels', y=['crash', 'fallen_occupant', 'other', 'overturning', 'run_over'], kind=\"bar\")\n",
    "plt.legend(loc='best')\n",
    "plt.xticks(rotation=45)\n",
    "\n",
    "plt.savefig('Results.png')\n",
    "    "
   ]
  },
  {
   "cell_type": "markdown",
   "metadata": {},
   "source": [
    "From the figure above, we can conclude the following:\n",
    "- Crashes are the most common traffic accidents in every cluster\n",
    "- Clusters 1 and 4 have more run_overs than fallen_occupants and other kind of traffic accidents (neighborhoods with restaurants, bars, soccer fields and concert halls).\n",
    "- Cluster 2 has more fallen_occupants and other kind of traffic accidents than run_overs (places with food trucks, gyms, bars and stores).\n",
    "- Overturning is the least frequent traffic accident in all neighborhoods"
   ]
  },
  {
   "cell_type": "code",
   "execution_count": null,
   "metadata": {},
   "outputs": [],
   "source": []
  },
  {
   "cell_type": "code",
   "execution_count": null,
   "metadata": {},
   "outputs": [],
   "source": []
  },
  {
   "cell_type": "code",
   "execution_count": null,
   "metadata": {},
   "outputs": [],
   "source": []
  },
  {
   "cell_type": "code",
   "execution_count": null,
   "metadata": {},
   "outputs": [],
   "source": []
  }
 ],
 "metadata": {
  "kernelspec": {
   "display_name": "Python 3",
   "language": "python",
   "name": "python3"
  },
  "language_info": {
   "codemirror_mode": {
    "name": "ipython",
    "version": 3
   },
   "file_extension": ".py",
   "mimetype": "text/x-python",
   "name": "python",
   "nbconvert_exporter": "python",
   "pygments_lexer": "ipython3",
   "version": "3.7.3"
  }
 },
 "nbformat": 4,
 "nbformat_minor": 4
}
